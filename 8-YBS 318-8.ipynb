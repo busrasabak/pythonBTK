{
 "cells": [
  {
   "cell_type": "markdown",
   "metadata": {},
   "source": [
    "# Algoritmalar için ince ayar zamanı"
   ]
  },
  {
   "cell_type": "code",
   "execution_count": null,
   "metadata": {},
   "outputs": [],
   "source": [
    "import pandas\n",
    "import numpy as np\n",
    "from pandas import read_csv\n",
    "from sklearn.metrics import accuracy_score\n",
    "from sklearn.model_selection import train_test_split\n",
    "from sklearn.model_selection import GridSearchCV"
   ]
  },
  {
   "cell_type": "code",
   "execution_count": null,
   "metadata": {},
   "outputs": [],
   "source": [
    "url = \"https://raw.githubusercontent.com/jbrownlee/Datasets/master/pima-indians-diabetes.data.csv\"\n",
    "names = ['preg', 'plas', 'pres', 'skin', 'test', 'mass', 'pedi', 'age', 'class']\n",
    "data = read_csv(url, names=names)\n",
    "\n",
    "veri = data.values\n",
    "X = veri[:,0:8]\n",
    "Y = veri[:,8]"
   ]
  },
  {
   "cell_type": "code",
   "execution_count": null,
   "metadata": {},
   "outputs": [],
   "source": [
    "x_train, x_test,y_train,y_test=train_test_split(X,Y,test_size=0.3,random_state=0, stratify=Y)"
   ]
  },
  {
   "cell_type": "markdown",
   "metadata": {},
   "source": [
    "## 1. Grid Search"
   ]
  },
  {
   "cell_type": "code",
   "execution_count": null,
   "metadata": {},
   "outputs": [],
   "source": [
    "from sklearn.linear_model import LogisticRegression\n",
    "from sklearn.metrics import accuracy_score,recall_score,precision_score,f1_score\n",
    "from sklearn.metrics import confusion_matrix\n",
    "\n",
    "clf = LogisticRegression().fit(x_train,y_train)\n",
    "y_pred = clf.predict(x_test)\n",
    "\n",
    "print('Doğruluk : ' + str(accuracy_score(y_test,y_pred)))\n",
    "print('Precision : ' + str(precision_score(y_test,y_pred)))\n",
    "print('Recall : ' + str(recall_score(y_test,y_pred)))\n",
    "print('F1 Puanı :' + str(f1_score(y_test,y_pred)))\n",
    "print('\\n')\n",
    "print('Sınıflandırma Tablosu : \\n' + str(confusion_matrix(y_test,y_pred)))"
   ]
  },
  {
   "cell_type": "markdown",
   "metadata": {},
   "source": [
    "## Recall Değerini arttırmak için çalışalım"
   ]
  },
  {
   "cell_type": "code",
   "execution_count": null,
   "metadata": {},
   "outputs": [],
   "source": [
    "grid_değerleri = {'penalty': ['l1', 'l2'],'C':[0.0001,.009,0.01,0.05,.09,1,5,10,25]}\n",
    "clf = LogisticRegression()\n",
    "grid_model = GridSearchCV(clf, param_grid = grid_değerleri, scoring = 'recall')\n",
    "grid_model.fit(x_train, y_train)"
   ]
  },
  {
   "cell_type": "code",
   "execution_count": null,
   "metadata": {},
   "outputs": [],
   "source": [
    "y_pred1 = grid_model.predict(x_test)\n",
    "\n",
    "print('Doğruluk : ' + str(accuracy_score(y_test,y_pred1)))\n",
    "print('Precision : ' + str(precision_score(y_test,y_pred1)))\n",
    "print('Recall : ' + str(recall_score(y_test,y_pred1)))\n",
    "print('F1 Puanı :' + str(f1_score(y_test,y_pred1)))\n",
    "print('\\n')\n",
    "print('Sınıflandırma Tablosu : \\n' + str(confusion_matrix(y_test,y_pred1)))"
   ]
  },
  {
   "cell_type": "code",
   "execution_count": null,
   "metadata": {},
   "outputs": [],
   "source": [
    "best_parameters = grid_model.best_params_  \n",
    "print(best_parameters)  "
   ]
  },
  {
   "cell_type": "code",
   "execution_count": null,
   "metadata": {},
   "outputs": [],
   "source": [
    "grid_model.score(x_test, y_test)"
   ]
  },
  {
   "cell_type": "code",
   "execution_count": null,
   "metadata": {},
   "outputs": [],
   "source": [
    "logistic = LogisticRegression()\n",
    "penalty = ['l1', 'l2']\n",
    "C = [0.0001, 0.001, 0.01, 1, 100]\n",
    "\n",
    "hyperparameters = dict(C=C, penalty=penalty)\n",
    "\n",
    "clf = GridSearchCV(logistic, hyperparameters)\n",
    "best_model = clf.fit(x_train, y_train)\n",
    "\n",
    "#Print all the Parameters that gave the best results:\n",
    "print('En iyi Parametreler',clf.best_params_)\n",
    "\n",
    "print('En iyi Penaltı parametresi:', best_model.best_estimator_.get_params()['penalty'])\n",
    "print('En iyi C:', best_model.best_estimator_.get_params()['C'])"
   ]
  },
  {
   "cell_type": "code",
   "execution_count": null,
   "metadata": {},
   "outputs": [],
   "source": [
    "y_pred2 = grid_model.predict(x_test)\n",
    "\n",
    "print('Doğruluk : ' + str(accuracy_score(y_test,y_pred2)))\n",
    "print('Precision : ' + str(precision_score(y_test,y_pred2)))\n",
    "print('Recall : ' + str(recall_score(y_test,y_pred2)))\n",
    "print('F1 Puanı :' + str(f1_score(y_test,y_pred2)))\n",
    "print('\\n')\n",
    "print('Sınıflandırma Tablosu : \\n' + str(confusion_matrix(y_test,y_pred2)))"
   ]
  },
  {
   "cell_type": "markdown",
   "metadata": {},
   "source": [
    "## Örnek 2"
   ]
  },
  {
   "cell_type": "code",
   "execution_count": null,
   "metadata": {},
   "outputs": [],
   "source": [
    "from sklearn.preprocessing import StandardScaler\n",
    "from sklearn.metrics import confusion_matrix\n",
    "\n",
    "sc = StandardScaler()\n",
    "X_train_std = sc.fit_transform(x_train)\n",
    "X_test_std = sc.transform(x_test)"
   ]
  },
  {
   "cell_type": "code",
   "execution_count": null,
   "metadata": {},
   "outputs": [],
   "source": [
    "from sklearn.svm import SVC\n",
    "classifier = SVC(kernel = 'rbf', random_state = 0)\n",
    "classifier.fit(X_train_std, y_train)\n",
    "\n",
    "y_pred = classifier.predict(X_test_std)\n",
    "print('Doğruluk : ' + str(accuracy_score(y_test,y_pred)))\n",
    "print('Sınıflandırma Tablosu : \\n' + str(confusion_matrix(y_test,y_pred)))"
   ]
  },
  {
   "cell_type": "code",
   "execution_count": null,
   "metadata": {},
   "outputs": [],
   "source": [
    "from sklearn.model_selection import cross_val_score\n",
    "doğruluk_skorları = cross_val_score(estimator = classifier, X = X_train_std, y = y_train, cv = 10)\n",
    "print(\"Ortalama değer: %\",round(doğruluk_skorları.mean()*100,2))\n",
    "print(\"std: %\",round(doğruluk_skorları.std()*100))"
   ]
  },
  {
   "cell_type": "code",
   "execution_count": null,
   "metadata": {},
   "outputs": [],
   "source": [
    "from sklearn.model_selection import GridSearchCV\n",
    "\n",
    "param_range = [0.0001, 0.001, 0.01, 0.1, 1.0, 10.0, 20]\n",
    "parameters = [{'C': param_range, 'kernel': ['linear']},\n",
    "              {'C': param_range, 'kernel': ['rbf'], 'gamma': [0.1, 0.2, 0.4, 0.6, 0.8, 0.9]},\n",
    "              {'C': param_range, 'kernel': ['poly'],'degree':[2,3], 'gamma': [0.1, 0.2, 0.4, 0.5, 0.7, 0.9]}]\n",
    "grid_search = GridSearchCV(estimator = classifier,\n",
    "                           param_grid = parameters,\n",
    "                           scoring = 'accuracy', #Puanlamayı doğruluğa göre yap\n",
    "                           cv = 5, #K fold değeri\n",
    "                           n_jobs = -1) # -1 bütün çekirdekleri kullan\n",
    "grid_search = grid_search.fit(X_train_std, y_train)\n",
    "best_accuracy = grid_search.best_score_\n",
    "best_parameters = grid_search.best_params_"
   ]
  },
  {
   "cell_type": "code",
   "execution_count": null,
   "metadata": {},
   "outputs": [],
   "source": [
    "print('En iyi tahmin oranı: %',round(best_accuracy*100,2))\n",
    "print('En iyi parametreler: ',best_parameters)"
   ]
  },
  {
   "cell_type": "markdown",
   "metadata": {},
   "source": [
    "## Örnek 3"
   ]
  },
  {
   "cell_type": "code",
   "execution_count": null,
   "metadata": {},
   "outputs": [],
   "source": [
    "from sklearn.tree import DecisionTreeClassifier\n",
    "ml=DecisionTreeClassifier()"
   ]
  },
  {
   "cell_type": "code",
   "execution_count": null,
   "metadata": {},
   "outputs": [],
   "source": [
    "ml.fit(x_train, y_train)\n",
    "\n",
    "y_pred = ml.predict(x_test)\n",
    "print('Doğruluk : ' + str(accuracy_score(y_test,y_pred)))\n",
    "print('Sınıflandırma Tablosu : \\n' + str(confusion_matrix(y_test,y_pred)))"
   ]
  },
  {
   "cell_type": "code",
   "execution_count": null,
   "metadata": {},
   "outputs": [],
   "source": [
    "kriter=['gini','entropy']\n",
    "derinlik=[3,5,8,10]\n",
    "bölme=['best','random']\n",
    "parametre=dict(criterion=kriter, max_depth=derinlik,splitter=bölme)\n",
    "#parametre={'criterion':['gini','entropy'],'max_depth':[3,5,8,10],'splitter':['best','random']}\n",
    "\n",
    "grid_değerleri = {'penalty': ['l1', 'l2'],'C':[0.0001,.009,0.01,0.05,.09,1,5,10,25]}\n",
    "\n",
    "yeni_model=GridSearchCV(estimator=ml,cv=10,param_grid=parametre)\n",
    "yeni_model.fit(x_train,y_train)\n",
    "\n",
    "y_tahmin = yeni_model.predict(x_test)\n",
    "\n",
    "print('Doğruluk : ' + str(accuracy_score(y_test,y_tahmin)))\n",
    "print('Precision : ' + str(precision_score(y_test,y_tahmin)))\n",
    "print('Recall : ' + str(recall_score(y_test,y_tahmin)))\n",
    "print('F1 Puanı :' + str(f1_score(y_test,y_tahmin)))\n",
    "print('\\n')\n",
    "print('Sınıflandırma Tablosu : \\n' + str(confusion_matrix(y_test,y_tahmin)))"
   ]
  },
  {
   "cell_type": "code",
   "execution_count": null,
   "metadata": {},
   "outputs": [],
   "source": [
    "print(yeni_model.best_score_)\n",
    "print(yeni_model.best_params_)"
   ]
  },
  {
   "cell_type": "markdown",
   "metadata": {},
   "source": [
    "## 2. Rastgele Arama ile Parametre Optimizasyonu"
   ]
  },
  {
   "cell_type": "code",
   "execution_count": null,
   "metadata": {},
   "outputs": [],
   "source": [
    "from sklearn.model_selection import RandomizedSearchCV\n",
    "from scipy.stats import uniform\n",
    "\n",
    "grid_değerleri = {'C': uniform()}\n",
    "model = LogisticRegression()\n",
    "rassal_model = RandomizedSearchCV(estimator=model, param_distributions=grid_değerleri, n_iter=100)\n",
    "rassal_model.fit(x_train, y_train)\n",
    "\n",
    "y_pred1 = rassal_model.predict(x_test)\n",
    "\n",
    "print('Doğruluk : ' + str(accuracy_score(y_test,y_pred1)))\n",
    "print('Precision : ' + str(precision_score(y_test,y_pred1)))\n",
    "print('Recall : ' + str(recall_score(y_test,y_pred1)))\n",
    "print('F1 Puanı :' + str(f1_score(y_test,y_pred1)))\n",
    "print('\\n')\n",
    "print('Sınıflandırma Tablosu : \\n' + str(confusion_matrix(y_test,y_pred1)))"
   ]
  },
  {
   "cell_type": "code",
   "execution_count": null,
   "metadata": {},
   "outputs": [],
   "source": [
    "best_parameters = rassal_model.best_params_  \n",
    "print(best_parameters)"
   ]
  },
  {
   "cell_type": "code",
   "execution_count": null,
   "metadata": {},
   "outputs": [],
   "source": []
  }
 ],
 "metadata": {
  "kernelspec": {
   "display_name": "Python 3",
   "language": "python",
   "name": "python3"
  },
  "language_info": {
   "codemirror_mode": {
    "name": "ipython",
    "version": 3
   },
   "file_extension": ".py",
   "mimetype": "text/x-python",
   "name": "python",
   "nbconvert_exporter": "python",
   "pygments_lexer": "ipython3",
   "version": "3.6.6"
  }
 },
 "nbformat": 4,
 "nbformat_minor": 2
}
