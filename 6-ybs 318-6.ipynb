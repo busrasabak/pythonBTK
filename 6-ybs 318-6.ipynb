{
 "cells": [
  {
   "cell_type": "markdown",
   "metadata": {},
   "source": [
    "## Regresyon Algoritmalarına Bakış"
   ]
  },
  {
   "cell_type": "code",
   "execution_count": null,
   "metadata": {},
   "outputs": [],
   "source": [
    "import pandas as pd\n",
    "import numpy as np\n",
    "import time\n",
    "from sklearn.metrics import mean_squared_error, r2_score\n",
    "from sklearn.datasets import load_boston\n",
    "boston = load_boston()\n",
    "\n",
    "bos = pd.DataFrame(boston.data)\n",
    "bos.columns = boston.feature_names\n",
    "print(bos.head())"
   ]
  },
  {
   "cell_type": "code",
   "execution_count": null,
   "metadata": {},
   "outputs": [],
   "source": [
    "bos['PRICE'] = boston.target\n",
    "X = bos.drop('PRICE', axis = 1)\n",
    "Y = bos['PRICE']"
   ]
  },
  {
   "cell_type": "code",
   "execution_count": null,
   "metadata": {},
   "outputs": [],
   "source": [
    "from sklearn.preprocessing import StandardScaler\n",
    "from sklearn.model_selection import train_test_split\n",
    "x_train, x_test,y_train,y_test=train_test_split(X,Y,test_size=0.3,random_state=0)"
   ]
  },
  {
   "cell_type": "code",
   "execution_count": null,
   "metadata": {},
   "outputs": [],
   "source": [
    "sc=StandardScaler()\n",
    "sc.fit(x_train)\n",
    "x_train_std=sc.transform(x_train)\n",
    "x_test_std=sc.transform(x_test)"
   ]
  },
  {
   "cell_type": "markdown",
   "metadata": {},
   "source": [
    "## 1. Doğrusal Regresyon"
   ]
  },
  {
   "cell_type": "code",
   "execution_count": null,
   "metadata": {},
   "outputs": [],
   "source": [
    "from sklearn.linear_model import LinearRegression\n",
    "\n",
    "linreg = LinearRegression().fit(x_train_std, y_train)\n",
    "\n",
    "print('doğrusal model sabit: {}'     .format(linreg.intercept_))\n",
    "print('doğrusal model katsayılar (w): {}'     .format(linreg.coef_))\n",
    "print('R-kare (eğitim): {:.3f}'     .format(linreg.score(x_train_std, y_train.values.ravel())))\n",
    "print('R-kare (test): {:.3f}'     .format(linreg.score(x_test_std, y_test.values.ravel())))"
   ]
  },
  {
   "cell_type": "markdown",
   "metadata": {},
   "source": [
    "## 2. Ridge Regresyon"
   ]
  },
  {
   "cell_type": "code",
   "execution_count": null,
   "metadata": {},
   "outputs": [],
   "source": [
    "from sklearn.linear_model import Ridge\n",
    "\n",
    "linridge = Ridge().fit(x_train_std, y_train)\n",
    "\n",
    "print('ridge regresyon sabit: {}'     .format(linridge.intercept_))\n",
    "print('ridge regresyon katsayılar:\\n{}'     .format(linridge.coef_))\n",
    "print('R-kare (eğitim): {:.3f}'     .format(linridge.score(x_train_std, y_train.values.ravel())))\n",
    "print('R-kare (test): {:.3f}'     .format(linridge.score(x_test_std, y_test.values.ravel())))\n",
    "print('0 olmayan öznitelik sayısı: {}'     .format(np.sum(linridge.coef_ != 0)))"
   ]
  },
  {
   "cell_type": "markdown",
   "metadata": {},
   "source": [
    "## 3. Lasso Regresyon"
   ]
  },
  {
   "cell_type": "code",
   "execution_count": null,
   "metadata": {},
   "outputs": [],
   "source": [
    "from sklearn.linear_model import Lasso\n",
    "\n",
    "linlasso = Lasso(max_iter = 10000).fit(x_train_std, y_train)\n",
    "\n",
    "print('lasso regresyon sabit: {}'     .format(linlasso.intercept_))\n",
    "print('lasso regresyon ağırlıklar:\\n{}'     .format(linlasso.coef_))\n",
    "print('0 olmayan öznitelikler: {}'     .format(np.sum(linlasso.coef_ != 0)))\n",
    "print('R-kare (eğitim): {:.3f}'     .format(linlasso.score(x_train_std, y_train.values.ravel())))\n",
    "print('R-kare (test): {:.3f}\\n'     .format(linlasso.score(x_test_std, y_test.values.ravel())))\n",
    "print('0 olmayan özniteliklerin ağırlıkları (mutlak değer sırasında):')\n",
    "\n",
    "for e in sorted (list(zip(list(X), linlasso.coef_)),\n",
    "                key = lambda e: -abs(e[1])):\n",
    "    if e[1] != 0:\n",
    "        print('\\t{}, {:.3f}'.format(e[0], e[1]))"
   ]
  },
  {
   "cell_type": "markdown",
   "metadata": {},
   "source": [
    "## 4. Doğrusal Olmayan Regresyon (Polynominal Regression)"
   ]
  },
  {
   "cell_type": "code",
   "execution_count": null,
   "metadata": {},
   "outputs": [],
   "source": [
    "from sklearn.preprocessing import PolynomialFeatures\n",
    "\n",
    "poly = PolynomialFeatures(degree=5)\n",
    "X_poly = poly.fit_transform(X)\n",
    "\n",
    "X_train, X_test, y_train1, y_test1 = train_test_split(X_poly, Y,random_state = 0)\n",
    "linreg1 = LinearRegression().fit(X_train, y_train)\n",
    "\n",
    "#print('(polinom model) katsayılar (w):\\n{}'     .format(linreg.coef_))\n",
    "print('(polinom model) sabit (b): {:.3f}'     .format(linreg1.intercept_))\n",
    "print('(polinom model) R-kare (eğitim): {:.3f}'     .format(linreg1.score(X_train, y_train1.values.ravel())))\n",
    "print('(polinom model) R-kare (test): {:.3f}\\n'     .format(linreg1.score(X_test, y_test1.values.ravel())))\n",
    "print('0 olmayan öznitelik sayısı: {}'     .format(np.sum(linreg1.coef_ != 0)))\n",
    "\n",
    "pre_train=linreg1.predict(X_train)\n",
    "pre_test= linreg1.predict(X_test)\n",
    "print(\"MSE-eğitim: %.3f\"      % mean_squared_error(y_train1, pre_train))\n",
    "print(\"MSE-test: %.3f\\n\"      % mean_squared_error(y_test1, pre_test))\n",
    "\n",
    "print('R-Kare (eğitim): %.3f' % r2_score(y_train1, pre_train))\n",
    "print('R-Kare (test): %.3f' % r2_score(y_test1, pre_test))"
   ]
  },
  {
   "cell_type": "markdown",
   "metadata": {},
   "source": [
    "## 5. Doğrusal Olmayan Regresyon (Normalleştirme ile)"
   ]
  },
  {
   "cell_type": "code",
   "execution_count": null,
   "metadata": {},
   "outputs": [],
   "source": [
    "poly = PolynomialFeatures(degree=5)\n",
    "X_poly = poly.fit_transform(X)\n",
    "X_train, X_test, y_train1, y_test1 = train_test_split(X_poly, Y,random_state = 0)\n",
    "\n",
    "sc.fit(X_train)\n",
    "X_train_std=sc.transform(X_train)\n",
    "X_test_std=sc.transform(X_test)\n",
    "linreg1 = LinearRegression().fit(X_train_std, y_train1)\n",
    "\n",
    "#print('(polinom model) katsayılar (w):\\n{}'     .format(linreg.coef_))\n",
    "print('(polinom model) sabit (b): {:.3f}'     .format(linreg1.intercept_))\n",
    "print('(polinom model) R-kare (eğitim): {:.3f}'     .format(linreg1.score(X_train_std, y_train1.values.ravel())))\n",
    "print('(polinom model) R-kare (test): {:.3f}\\n'     .format(linreg1.score(X_test_std, y_test1.values.ravel())))\n",
    "print('0 olmayan öznitelik sayısı: {}'     .format(np.sum(linreg1.coef_ != 0)))\n",
    "\n",
    "pre_train=linreg1.predict(X_train_std)\n",
    "pre_test= linreg1.predict(X_test_std)\n",
    "print(\"MSE-eğitim: %.3f\"      % mean_squared_error(y_train1, pre_train))\n",
    "print(\"MSE-test: %.3f\\n\"      % mean_squared_error(y_test1, pre_test))\n"
   ]
  },
  {
   "cell_type": "markdown",
   "metadata": {},
   "source": [
    "## 6. K-nn Regresyon "
   ]
  },
  {
   "cell_type": "code",
   "execution_count": null,
   "metadata": {},
   "outputs": [],
   "source": [
    "from sklearn.neighbors import KNeighborsRegressor\n",
    "\n",
    "\n",
    "kNN = KNeighborsRegressor(n_neighbors=1)\n",
    "kNN.fit(x_train_std, y_train)\n",
    "\n",
    "pred_train=kNN.predict(x_train_std)\n",
    "pred_test= kNN.predict(x_test_std)\n",
    "print('R-kare (eğitim): {:.3f}'     .format(kNN.score(x_train_std, y_train.values.ravel())))\n",
    "print('R-kare (test): {:.3f}'     .format(kNN.score(x_test_std, y_test.values.ravel())))\n",
    "print(\"MSE-eğitim: %.3f\"      % mean_squared_error(y_train, pred_train))\n",
    "print(\"MSE-test: %.3f\\n\"      % mean_squared_error(y_test, pred_test))"
   ]
  },
  {
   "cell_type": "markdown",
   "metadata": {},
   "source": [
    "## 7. Karar Ağacı Regresyonu"
   ]
  },
  {
   "cell_type": "code",
   "execution_count": null,
   "metadata": {},
   "outputs": [],
   "source": [
    "from sklearn.tree import DecisionTreeRegressor\n",
    "\n",
    "KAR = DecisionTreeRegressor(max_leaf_nodes=20, random_state=0)\n",
    "KAR.fit(x_train, y_train)\n",
    "\n",
    "pred_train=KAR.predict(x_train)\n",
    "pred_test= KAR.predict(x_test)\n",
    "print('R-kare (eğitim): {:.3f}'     .format(KAR.score(x_train, y_train)))\n",
    "print('R-kare (test): {:.3f}'     .format(KAR.score(x_test, y_test)))\n",
    "print(\"MSE-eğitim: %.3f\"      % mean_squared_error(y_train, pred_train))\n",
    "print(\"MSE-test: %.3f\"      % mean_squared_error(y_test, pred_test))"
   ]
  },
  {
   "cell_type": "markdown",
   "metadata": {},
   "source": [
    "## 8. Yapay Sinir Ağları"
   ]
  },
  {
   "cell_type": "code",
   "execution_count": null,
   "metadata": {},
   "outputs": [],
   "source": [
    "from sklearn.neural_network import MLPRegressor\n",
    "\n",
    "# activation : {‘identity’, ‘logistic’, ‘tanh’, ‘relu’}\n",
    "# solver: adam (büyük data varsa tercih), lbfgs\n",
    "mlp = MLPRegressor(activation='relu',hidden_layer_sizes=[10],solver='lbfgs',max_iter=200000,tol=0.000000001)\n",
    "mlp.fit(x_train_std,y_train.values.ravel())\n"
   ]
  },
  {
   "cell_type": "code",
   "execution_count": null,
   "metadata": {},
   "outputs": [],
   "source": [
    "pre_train=mlp.predict(x_train_std)\n",
    "pre_test= mlp.predict(x_test_std)\n",
    "\n",
    "print('R-kare (eğitim): %.4f' % r2_score(y_train, pre_train))   \n",
    "print('R-kare (test): %.4f\\n' % r2_score(y_test, pre_test))\n",
    "print(\"MSE-Eğitim: %.3f\"      % mean_squared_error(y_train, pre_train))\n",
    "print(\"MSE-Test: %.3f\"      % mean_squared_error(y_test, pre_test))"
   ]
  },
  {
   "cell_type": "markdown",
   "metadata": {},
   "source": [
    "## 9. XGBoost"
   ]
  },
  {
   "cell_type": "code",
   "execution_count": null,
   "metadata": {},
   "outputs": [],
   "source": [
    "import xgboost \n",
    "from sklearn.metrics import explained_variance_score\n",
    "\n",
    "xgb = xgboost.XGBRegressor(objective ='reg:linear',n_estimators=200, learning_rate=0.08, max_depth=10)\n",
    "xgb.fit(x_train,y_train)"
   ]
  },
  {
   "cell_type": "code",
   "execution_count": null,
   "metadata": {},
   "outputs": [],
   "source": [
    "pre_train=xgb.predict(x_train)\n",
    "pre_test= xgb.predict(x_test)\n",
    "\n",
    "print('R-kare (eğitim): %.4f' % r2_score(y_train, pre_train))   \n",
    "print('R-kare (test): %.4f\\n' % r2_score(y_test, pre_test))\n",
    "print(\"MSE-Eğitim: %.3f\"      % mean_squared_error(y_train, pre_train))\n",
    "print(\"MSE-Test: %.3f\"      % mean_squared_error(y_test, pre_test))"
   ]
  },
  {
   "cell_type": "markdown",
   "metadata": {},
   "source": [
    "## 10. Random Forest"
   ]
  },
  {
   "cell_type": "code",
   "execution_count": null,
   "metadata": {},
   "outputs": [],
   "source": [
    "from sklearn.ensemble import RandomForestRegressor\n",
    "rf_clf = RandomForestRegressor(max_depth=15,n_estimators=100, min_samples_leaf=10,min_samples_split=100, random_state=10)\n",
    "rf_clf.fit(x_train,y_train)"
   ]
  },
  {
   "cell_type": "code",
   "execution_count": null,
   "metadata": {},
   "outputs": [],
   "source": [
    "pre_train=rf_clf.predict(x_train)\n",
    "pre_test= rf_clf.predict(x_test)\n",
    "\n",
    "print('R-kare (eğitim): %.4f' % r2_score(y_train, pre_train))   \n",
    "print('R-kare (test): %.4f\\n' % r2_score(y_test, pre_test))\n",
    "print(\"MSE-Eğitim: %.3f\"      % mean_squared_error(y_train, pre_train))\n",
    "print(\"MSE-Test: %.3f\"      % mean_squared_error(y_test, pre_test))"
   ]
  },
  {
   "cell_type": "markdown",
   "metadata": {},
   "source": [
    "# PARAMETRE OPTİMİZASYONU ZAMANI"
   ]
  },
  {
   "cell_type": "markdown",
   "metadata": {},
   "source": [
    "## 1. Ridge regresyon ve düzenlileştirme katsayısı"
   ]
  },
  {
   "cell_type": "code",
   "execution_count": null,
   "metadata": {},
   "outputs": [],
   "source": [
    "print('Ridge regresyon: düzenlileştirme katsayısının etkisi\\n')\n",
    "for alfa in [0.05, 0.1, 0, 1, 10, 20, 50, 100, 1000]:\n",
    "    linridge = Ridge(alpha = alfa).fit(x_train_std, y_train)\n",
    "    print(\"lambda= {:.2f}\\n \".format(alfa))\n",
    "    pre_train=linridge.predict(x_train_std)\n",
    "    pre_test= linridge.predict(x_test_std)\n",
    "    print('R-Kare (eğitim): %.3f' % r2_score(y_train, pre_train))\n",
    "    print('R-Kare (test): %.3f\\n' % r2_score(y_test, pre_test))"
   ]
  },
  {
   "cell_type": "markdown",
   "metadata": {},
   "source": [
    "## 2. Lasso regresyon ve düzenlileştirme katsayısı"
   ]
  },
  {
   "cell_type": "code",
   "execution_count": null,
   "metadata": {},
   "outputs": [],
   "source": [
    "print('Lasso regresyon: düzenlileştirme katsayısının etkisi\\n')\n",
    "for alfa in [0.001, 0,.01, 0.5, 1, 2, 3, 5, 10, 20, 50]:\n",
    "    linlasso = Lasso(alpha = alfa,max_iter = 150000).fit(x_train_std, y_train)\n",
    "    print(\"lambda= {:.2f}\\n \".format(alfa))\n",
    "    pre_train=linlasso.predict(x_train_std)\n",
    "    pre_test= linlasso.predict(x_test_std)\n",
    "    print('R-Kare (eğitim): %.3f' % r2_score(y_train, pre_train))\n",
    "    print('R-Kare (test): %.3f\\n' % r2_score(y_test, pre_test))\n",
    "    print('0 olmayan öznitelikler: {}\\n'     .format(np.sum(linlasso.coef_ != 0)))"
   ]
  },
  {
   "cell_type": "markdown",
   "metadata": {},
   "source": [
    "## 3. Polinom Derecesi"
   ]
  },
  {
   "cell_type": "code",
   "execution_count": null,
   "metadata": {},
   "outputs": [],
   "source": [
    "for a in range(1,7):\n",
    "    tic = time.time()\n",
    "    tahminpolinom=PolynomialFeatures(degree=a)\n",
    "    Xyeni=tahminpolinom.fit_transform(X)\n",
    "    X_train1, X_test1, y_train1, y_test1 = train_test_split(Xyeni, Y,test_size=0.3,random_state=0)\n",
    "    sc=StandardScaler()\n",
    "    sc.fit(X_train1)\n",
    "    x_train_st1=sc.transform(X_train1)\n",
    "    x_test_st1=sc.transform(X_test1)\n",
    "    \n",
    "    polimodel=LinearRegression()\n",
    "    polimodel.fit(x_train_st1, y_train1)\n",
    "    pre_train=polimodel.predict(x_train_st1)\n",
    "    pre_test= polimodel.predict(x_test_st1)\n",
    "    print(\"derece\",a)\n",
    "    print('\\n')\n",
    "    print(\"MSE-eğitim: %.3f\"      % mean_squared_error(y_train1, pre_train))\n",
    "    print(\"MSE-test: %.3f\\n\"      % mean_squared_error(y_test1, pre_test))\n",
    "    print('R-Kare (eğitim): %.3f' % r2_score(y_train1, pre_train))\n",
    "    print('R-Kare (test): %.3f\\n' % r2_score(y_test1, pre_test))\n",
    "    print('0 olmayan öznitelik sayısı: {}'     .format(np.sum(polimodel.coef_ != 0)))\n",
    "    toc = time.time()\n",
    "    print (toc-tic, \"sn geçti\\n\")"
   ]
  },
  {
   "cell_type": "code",
   "execution_count": null,
   "metadata": {},
   "outputs": [],
   "source": []
  }
 ],
 "metadata": {
  "kernelspec": {
   "display_name": "Python 3",
   "language": "python",
   "name": "python3"
  },
  "language_info": {
   "codemirror_mode": {
    "name": "ipython",
    "version": 3
   },
   "file_extension": ".py",
   "mimetype": "text/x-python",
   "name": "python",
   "nbconvert_exporter": "python",
   "pygments_lexer": "ipython3",
   "version": "3.6.6"
  }
 },
 "nbformat": 4,
 "nbformat_minor": 2
}
