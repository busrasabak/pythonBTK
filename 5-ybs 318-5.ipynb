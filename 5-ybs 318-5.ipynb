{
 "cells": [
  {
   "cell_type": "code",
   "execution_count": null,
   "metadata": {},
   "outputs": [],
   "source": [
    "import pandas\n",
    "import numpy as np\n",
    "from pandas import read_csv\n",
    "url = \"https://raw.githubusercontent.com/jbrownlee/Datasets/master/pima-indians-diabetes.data.csv\"\n",
    "names = ['preg', 'plas', 'pres', 'skin', 'test', 'mass', 'pedi', 'age', 'class']\n",
    "data = read_csv(url, names=names)"
   ]
  },
  {
   "cell_type": "code",
   "execution_count": null,
   "metadata": {},
   "outputs": [],
   "source": [
    "veri = data.values\n",
    "X = veri[:,0:8]\n",
    "Y = veri[:,8]"
   ]
  },
  {
   "cell_type": "code",
   "execution_count": null,
   "metadata": {},
   "outputs": [],
   "source": [
    "from sklearn.model_selection import train_test_split\n",
    "x_train, x_test,y_train,y_test=train_test_split(X,Y,test_size=0.3,random_state=0, stratify=Y)"
   ]
  },
  {
   "cell_type": "markdown",
   "metadata": {},
   "source": [
    "# MAKİNE ÖĞRENMESİ MODELLERİNE KISA BİR BAKIŞ"
   ]
  },
  {
   "cell_type": "markdown",
   "metadata": {},
   "source": [
    "## Sınıflandırma Modelleri"
   ]
  },
  {
   "cell_type": "markdown",
   "metadata": {},
   "source": [
    "## 1. Lojistik Regresyon"
   ]
  },
  {
   "cell_type": "code",
   "execution_count": null,
   "metadata": {},
   "outputs": [],
   "source": [
    "from sklearn.linear_model import LogisticRegression\n",
    "\n",
    "model = LogisticRegression()\n",
    "model.fit(x_train, y_train)\n",
    "\n",
    "y_pred = model.predict(x_test)\n",
    "y_pred1 = model.predict(x_train)"
   ]
  },
  {
   "cell_type": "code",
   "execution_count": null,
   "metadata": {},
   "outputs": [],
   "source": [
    "from sklearn.metrics import accuracy_score\n",
    "print('eğitim verisi için doğruluk oranı: ',accuracy_score(y_pred1,y_train))\n",
    "print('\\n')\n",
    "print('test verisi için doğruluk: ',accuracy_score(y_pred,y_test))"
   ]
  },
  {
   "cell_type": "code",
   "execution_count": null,
   "metadata": {},
   "outputs": [],
   "source": [
    "from sklearn.preprocessing import StandardScaler\n",
    "sc=StandardScaler()\n",
    "sc.fit(x_train)\n",
    "x_train_std=sc.transform(x_train)\n",
    "x_test_std=sc.transform(x_test)"
   ]
  },
  {
   "cell_type": "code",
   "execution_count": null,
   "metadata": {},
   "outputs": [],
   "source": [
    "model1 = LogisticRegression()\n",
    "model1.fit(x_train_std, y_train)\n",
    "\n",
    "y_pred = model1.predict(x_test_std)\n",
    "y_pred1 = model1.predict(x_train_std)\n",
    "\n",
    "print('eğitim verisi için doğruluk oranı: ',accuracy_score(y_pred1,y_train))\n",
    "print('\\n')\n",
    "print('test verisi için doğruluk: ',accuracy_score(y_pred,y_test))"
   ]
  },
  {
   "cell_type": "markdown",
   "metadata": {},
   "source": [
    "## C parametresi (Regularization parameter)"
   ]
  },
  {
   "cell_type": "code",
   "execution_count": null,
   "metadata": {},
   "outputs": [],
   "source": [
    "model1 = LogisticRegression(C=0.0001)\n",
    "model1.fit(x_train_std, y_train)\n",
    "\n",
    "y_pred = model1.predict(x_test_std)\n",
    "y_pred1 = model1.predict(x_train_std)\n",
    "\n",
    "print('eğitim verisi için doğruluk oranı: ',accuracy_score(y_pred1,y_train))\n",
    "print('\\n')\n",
    "print('test verisi için doğruluk: ',accuracy_score(y_pred,y_test))"
   ]
  },
  {
   "cell_type": "code",
   "execution_count": null,
   "metadata": {},
   "outputs": [],
   "source": [
    "for aa in [0.001, 0.01, 0.05, 0.1, 0.5, 1, 5, 10,1000,10000]:\n",
    "    model=LogisticRegression(C=aa)\n",
    "    model.fit(x_train_std, y_train)\n",
    "    y_pred = model.predict(x_test_std)\n",
    "    y_pred1 = model.predict(x_train_std)\n",
    "    print(\"parametre=\",aa,'\\n')\n",
    "    print('eğitim verisi için doğruluk oranı: ',accuracy_score(y_pred1,y_train))\n",
    "    print('test verisi için doğruluk: ',accuracy_score(y_pred,y_test))\n",
    "    print('\\n')"
   ]
  },
  {
   "cell_type": "markdown",
   "metadata": {},
   "source": [
    "## 2. K-En Yakın Komşu Algoritması (k-Nearest Neighbors)"
   ]
  },
  {
   "cell_type": "code",
   "execution_count": null,
   "metadata": {},
   "outputs": [],
   "source": [
    "from sklearn.neighbors import KNeighborsClassifier\n",
    "\n",
    "knn = KNeighborsClassifier(n_neighbors=3)\n",
    "knn.fit(x_train, y_train)\n",
    "y_pred = knn.predict(x_test)\n",
    "y_pred1 = knn.predict(x_train)\n",
    "\n",
    "print('eğitim verisi için doğruluk oranı: ',accuracy_score(y_pred1,y_train))\n",
    "print('\\n')\n",
    "print('test verisi için doğruluk: ',accuracy_score(y_pred,y_test))"
   ]
  },
  {
   "cell_type": "code",
   "execution_count": null,
   "metadata": {},
   "outputs": [],
   "source": [
    "import time\n",
    "for a in range(1,11):\n",
    "    tic = time.time()\n",
    "    knn = KNeighborsClassifier(n_neighbors=a)\n",
    "    knn.fit(x_train, y_train)\n",
    "    y_pred = knn.predict(x_test)\n",
    "    y_pred1 = knn.predict(x_train)\n",
    "    print(\"k=\",a,'\\n')\n",
    "    print('eğitim verisi için doğruluk oranı: ',accuracy_score(y_pred1,y_train))\n",
    "    print('test verisi için doğruluk: ',accuracy_score(y_pred,y_test))\n",
    "    toc = time.time()\n",
    "    print (toc-tic, \"sn. geçti\\n\")\n",
    "    print('\\n')"
   ]
  },
  {
   "cell_type": "markdown",
   "metadata": {},
   "source": [
    "## Acaba en ideal komşu sayısı (k) kaç olmalı?"
   ]
  },
  {
   "cell_type": "code",
   "execution_count": null,
   "metadata": {},
   "outputs": [],
   "source": [
    "import matplotlib.pyplot as plt\n",
    "egitim_accuracy = []\n",
    "test_accuracy = []\n",
    "komsu_sayisi = range(1, 11)\n",
    "\n",
    "for a in komsu_sayisi:\n",
    "    clf = KNeighborsClassifier(n_neighbors=a)\n",
    "    clf.fit(x_train, y_train)\n",
    "    egitim_accuracy.append((clf.score(x_train, y_train)))\n",
    "    test_accuracy.append((clf.score(x_test, y_test)))\n",
    "\n",
    "        \n",
    "plt.plot(komsu_sayisi, egitim_accuracy, label=\"eğitim verisi doğruluk oranı\")\n",
    "plt.plot(komsu_sayisi, test_accuracy, label=\"test verisi doğruluk oranı\")\n",
    "plt.ylabel(\"Doğruluk\")\n",
    "plt.xlabel(\"komşu sayısı\")\n",
    "plt.legend()"
   ]
  },
  {
   "cell_type": "code",
   "execution_count": null,
   "metadata": {},
   "outputs": [],
   "source": [
    "print(test_accuracy)"
   ]
  },
  {
   "cell_type": "markdown",
   "metadata": {},
   "source": [
    "## çapraz doğrulama zamanı (cross validation)"
   ]
  },
  {
   "cell_type": "code",
   "execution_count": null,
   "metadata": {},
   "outputs": [],
   "source": [
    "from sklearn.model_selection import cross_val_score\n",
    "cv_scores = []\n",
    "\n",
    "knn = KNeighborsClassifier(n_neighbors=3)\n",
    "\n",
    "# fitting the model\n",
    "knn.fit(x_train, y_train)\n",
    "\n",
    "# predict the response\n",
    "pred = knn.predict(x_test)\n",
    "\n",
    "scores = cross_val_score(knn, x_train, y_train, cv=10, scoring='accuracy')\n",
    "cv_scores.append(scores.mean())\n",
    "\n",
    "print(scores)\n",
    "print('\\n')\n",
    "print(scores.mean())"
   ]
  },
  {
   "cell_type": "markdown",
   "metadata": {},
   "source": [
    "## parametre optimizasyonu"
   ]
  },
  {
   "cell_type": "code",
   "execution_count": null,
   "metadata": {},
   "outputs": [],
   "source": [
    "k_range = range(1, 11)\n",
    "k_scores = []\n",
    "\n",
    "for k in k_range:\n",
    "    knn = KNeighborsClassifier(n_neighbors=k)\n",
    "    scores = cross_val_score(knn, x_train, y_train, cv=10, scoring='accuracy')\n",
    "    k_scores.append(scores.mean())"
   ]
  },
  {
   "cell_type": "code",
   "execution_count": null,
   "metadata": {},
   "outputs": [],
   "source": [
    "%matplotlib inline\n",
    "\n",
    "plt.plot(k_range, k_scores)\n",
    "plt.xlabel('KNN için Komşu değerleri(k)')\n",
    "plt.ylabel('CV ile elde edilen Doğruluk Oranları')\n",
    "plt.show()"
   ]
  },
  {
   "cell_type": "markdown",
   "metadata": {},
   "source": [
    "## 3. Naive Bayes"
   ]
  },
  {
   "cell_type": "code",
   "execution_count": null,
   "metadata": {},
   "outputs": [],
   "source": [
    "# Naive Bayes\n",
    "from sklearn.naive_bayes import GaussianNB\n",
    "nb = GaussianNB()\n",
    "nb.fit(x_train_std, y_train)\n",
    "\n",
    "y_pred = nb.predict(x_test_std)\n",
    "y_pred1 = nb.predict(x_train_std)\n",
    "\n",
    "print('eğitim verisi için doğruluk oranı: ',accuracy_score(y_pred1,y_train))\n",
    "print('\\n')\n",
    "print('test verisi için doğruluk: ',accuracy_score(y_pred,y_test))\n"
   ]
  },
  {
   "cell_type": "markdown",
   "metadata": {},
   "source": [
    "## 4. Support Vector Machine"
   ]
  },
  {
   "cell_type": "code",
   "execution_count": null,
   "metadata": {},
   "outputs": [],
   "source": [
    "from sklearn.svm import SVC\n",
    "clf = SVC(kernel='linear', C=1)\n",
    "clf.fit(x_train_std, y_train)\n",
    "\n",
    "y_pred = clf.predict(x_test_std)\n",
    "y_pred1 = clf.predict(x_train_std)\n",
    "\n",
    "print('eğitim verisi için doğruluk oranı: ',accuracy_score(y_pred1,y_train))\n",
    "print('\\n')\n",
    "print('test verisi için doğruluk: ',accuracy_score(y_pred,y_test))"
   ]
  },
  {
   "cell_type": "code",
   "execution_count": null,
   "metadata": {},
   "outputs": [],
   "source": [
    "clf = SVC(kernel='rbf', gamma=0.7)\n",
    "clf.fit(x_train_std, y_train)\n",
    "\n",
    "y_pred = clf.predict(x_test_std)\n",
    "y_pred1 = clf.predict(x_train_std)\n",
    "\n",
    "print('eğitim verisi için doğruluk oranı: ',accuracy_score(y_pred1,y_train))\n",
    "print('\\n')\n",
    "print('test verisi için doğruluk: ',accuracy_score(y_pred,y_test))"
   ]
  },
  {
   "cell_type": "markdown",
   "metadata": {},
   "source": [
    "## parametre belirleme"
   ]
  },
  {
   "cell_type": "code",
   "execution_count": null,
   "metadata": {},
   "outputs": [],
   "source": [
    "for aa in [0.001, 0.01, 0.05, 0.1, 0.5, 1, 5, 10,100]:\n",
    "    clf = SVC(kernel='rbf', gamma=aa)\n",
    "    clf.fit(x_train_std, y_train)\n",
    "    y_pred = clf.predict(x_test_std)\n",
    "    y_pred1 = clf.predict(x_train_std)\n",
    "    \n",
    "    print(\"gamma=\",aa,'\\n')\n",
    "    print('eğitim verisi için doğruluk oranı: ',accuracy_score(y_pred1,y_train))\n",
    "    print('test verisi için doğruluk: ',accuracy_score(y_pred,y_test))\n",
    "    print('\\n')"
   ]
  },
  {
   "cell_type": "markdown",
   "metadata": {},
   "source": [
    "## 5. Karar Ağacı"
   ]
  },
  {
   "cell_type": "code",
   "execution_count": null,
   "metadata": {},
   "outputs": [],
   "source": [
    "from sklearn.tree import DecisionTreeClassifier\n",
    "\n",
    "# criterion=entropy\n",
    "dtc = DecisionTreeClassifier()\n",
    "#dtc = DecisionTreeClassifier(criterion = \"gini\", max_depth=10, min_samples_leaf=10)\n",
    "dtc.fit(x_train, y_train)\n",
    "pred = dtc.predict(x_test)\n",
    "pred1 = dtc.predict(x_train)\n",
    "\n",
    "print('eğitim verisi için doğruluk oranı: ',accuracy_score(pred1,y_train))\n",
    "print('\\n')\n",
    "print('test verisi için doğruluk: ',accuracy_score(pred,y_test))"
   ]
  },
  {
   "cell_type": "code",
   "execution_count": null,
   "metadata": {},
   "outputs": [],
   "source": [
    "import pydotplus \n",
    "from sklearn import tree\n",
    "from IPython.display import Image\n",
    "import os     \n",
    "os.environ[\"PATH\"] += os.pathsep + 'C:\\\\Users\\\\Pro2000\\\\Anaconda3\\\\Library\\\\bin\\\\graphviz'\n",
    "# dot_data = tree.export_graphviz(dtc, out_file=None, feature_names=iris.feature_names,class_names=iris.target_names)\n",
    "dot_data = tree.export_graphviz(dtc, out_file=None)\n",
    "\n",
    "graph = pydotplus.graphviz.graph_from_dot_data(dot_data)\n",
    "\n",
    "Image(graph.create_png())"
   ]
  },
  {
   "cell_type": "markdown",
   "metadata": {},
   "source": [
    "## 6. Yapay Sinir Ağları"
   ]
  },
  {
   "cell_type": "code",
   "execution_count": null,
   "metadata": {},
   "outputs": [],
   "source": [
    "from sklearn.neural_network import MLPClassifier\n",
    "\n",
    "# activation : {‘identity’, ‘logistic’, ‘tanh’, ‘relu’}\n",
    "# solver: adam (büyük data varsa tercih), lbfgs\n",
    "mlp = MLPClassifier(activation='logistic',hidden_layer_sizes=[10],solver='lbfgs',max_iter=200000,tol=0.000000001)\n",
    "mlp.fit(x_train_std,y_train)\n",
    "pred = mlp.predict(x_test_std)\n",
    "pred1= mlp.predict(x_train_std)\n",
    "\n",
    "print('eğitim verisi için doğruluk oranı: ',accuracy_score(pred1,y_train))\n",
    "print('\\n')\n",
    "print('test verisi için doğruluk: ',accuracy_score(pred,y_test))"
   ]
  },
  {
   "cell_type": "markdown",
   "metadata": {},
   "source": [
    "## 7. XGBOOST"
   ]
  },
  {
   "cell_type": "code",
   "execution_count": null,
   "metadata": {},
   "outputs": [],
   "source": [
    "import xgboost \n",
    "xgb = xgboost.XGBClassifier(n_estimators=100, learning_rate=0.16, max_depth=5, subsample=0.75,n_jobs=3)\n",
    "# n_jobs CPU çekirdek sayısı (paralel işleme için)\n",
    "xgb.fit(x_train,y_train)\n",
    "pred = xgb.predict(x_test)\n",
    "pred1= xgb.predict(x_train)\n",
    "\n",
    "print('eğitim verisi için doğruluk oranı: ',accuracy_score(pred1,y_train))\n",
    "print('\\n')\n",
    "print('test verisi için doğruluk: ',accuracy_score(pred,y_test))"
   ]
  },
  {
   "cell_type": "code",
   "execution_count": null,
   "metadata": {},
   "outputs": [],
   "source": [
    "imp_feat_rf = pandas.Series(xgb.feature_importances_, index=names[0:8]).sort_values(ascending=False)\n",
    "imp_feat_rf.plot(kind='bar', title='XGBoost ile Öznitelik Önemleri', figsize=(12,8))\n",
    "plt.ylabel('Öznitelik Önem Derecesi')\n",
    "plt.subplots_adjust(bottom=0.25)\n",
    "plt.show()"
   ]
  },
  {
   "cell_type": "markdown",
   "metadata": {},
   "source": [
    "## 8. Random Forest"
   ]
  },
  {
   "cell_type": "code",
   "execution_count": null,
   "metadata": {},
   "outputs": [],
   "source": [
    "from sklearn.ensemble import RandomForestClassifier\n",
    "\n",
    "model = RandomForestClassifier(n_estimators=100, max_depth=5, min_samples_leaf=5,max_features='auto')\n",
    "model.fit(x_train,y_train)"
   ]
  },
  {
   "cell_type": "code",
   "execution_count": null,
   "metadata": {},
   "outputs": [],
   "source": [
    "pred = model.predict(x_test)\n",
    "pred1= model.predict(x_train)\n",
    "\n",
    "print ('doğruluk (Test): ' ,accuracy_score(pred, y_test))\n",
    "print('\\n')\n",
    "print ('doğruluk (Eğitim): ' ,accuracy_score(pred1, y_train))\n",
    "print('\\n')"
   ]
  },
  {
   "cell_type": "code",
   "execution_count": null,
   "metadata": {},
   "outputs": [],
   "source": [
    "imp_feat_rf = pandas.Series(model.feature_importances_, index=names[0:8]).sort_values(ascending=False)\n",
    "imp_feat_rf.plot(kind='bar', title='XGBoost ile Öznitelik Önemleri', figsize=(12,8))\n",
    "plt.ylabel('Öznitelik Önem Derecesi')\n",
    "plt.subplots_adjust(bottom=0.25)\n",
    "plt.show()"
   ]
  },
  {
   "cell_type": "code",
   "execution_count": null,
   "metadata": {},
   "outputs": [],
   "source": []
  }
 ],
 "metadata": {
  "kernelspec": {
   "display_name": "Python 3",
   "language": "python",
   "name": "python3"
  },
  "language_info": {
   "codemirror_mode": {
    "name": "ipython",
    "version": 3
   },
   "file_extension": ".py",
   "mimetype": "text/x-python",
   "name": "python",
   "nbconvert_exporter": "python",
   "pygments_lexer": "ipython3",
   "version": "3.6.5"
  }
 },
 "nbformat": 4,
 "nbformat_minor": 2
}
