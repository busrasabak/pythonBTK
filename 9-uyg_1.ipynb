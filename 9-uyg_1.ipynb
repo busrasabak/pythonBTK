{
 "cells": [
  {
   "cell_type": "code",
   "execution_count": null,
   "metadata": {},
   "outputs": [],
   "source": [
    "import numpy as np\n",
    "import matplotlib.pyplot as plt\n",
    "import pandas as pd\n",
    "from sklearn.model_selection import train_test_split\n",
    "\n",
    "fruits = pd.read_table('fruit_data_with_colors.txt')"
   ]
  },
  {
   "cell_type": "code",
   "execution_count": null,
   "metadata": {},
   "outputs": [],
   "source": [
    "fruits.head()"
   ]
  },
  {
   "cell_type": "code",
   "execution_count": null,
   "metadata": {},
   "outputs": [],
   "source": [
    "lookup_fruit_name = dict(zip(fruits.fruit_label.unique(), fruits.fruit_name.unique()))   \n",
    "lookup_fruit_name"
   ]
  },
  {
   "cell_type": "code",
   "execution_count": null,
   "metadata": {},
   "outputs": [],
   "source": [
    "X = fruits[['height', 'width', 'mass', 'color_score']]\n",
    "y = fruits['fruit_label']\n",
    "X_train, X_test, y_train, y_test = train_test_split(X, y, random_state=0)"
   ]
  },
  {
   "cell_type": "code",
   "execution_count": null,
   "metadata": {},
   "outputs": [],
   "source": [
    "from matplotlib import cm\n",
    "\n",
    "cmap = cm.get_cmap('gnuplot')\n",
    "scatter = pd.plotting.scatter_matrix(X_train, c= y_train, marker = 'o', s=40, hist_kwds={'bins':15}, \n",
    "                                     figsize=(19,9), cmap=cmap)"
   ]
  },
  {
   "cell_type": "code",
   "execution_count": null,
   "metadata": {},
   "outputs": [],
   "source": [
    "from sklearn.neighbors import KNeighborsClassifier\n",
    "\n",
    "knn = KNeighborsClassifier(n_neighbors = 6)\n",
    "\n",
    "knn.fit(X_train, y_train)\n",
    "knn.score(X_test, y_test)"
   ]
  },
  {
   "cell_type": "code",
   "execution_count": null,
   "metadata": {},
   "outputs": [],
   "source": [
    "# elimize ulaşan yeni bir meyveyi tahmin edelim: kütlesi 20g, genişliği 4.3 cm, yüksekliği 5.5 cm, renk puanı 0.7\n",
    "fruit_prediction = knn.predict([[20, 4.3, 5.5,0.7]])\n",
    "print(fruit_prediction)\n",
    "lookup_fruit_name[fruit_prediction[0]]"
   ]
  },
  {
   "cell_type": "code",
   "execution_count": null,
   "metadata": {},
   "outputs": [],
   "source": [
    "# 2. örnek: kütle 100g, genişlik 6.3 cm, yükseklik 8.5 cm ve renk kodu 0.66\n",
    "fruit_prediction1 = knn.predict([[660, 223.3, 2.5,0.66]])\n",
    "print(fruit_prediction1)\n",
    "lookup_fruit_name[fruit_prediction1[0]]"
   ]
  },
  {
   "cell_type": "code",
   "execution_count": null,
   "metadata": {},
   "outputs": [],
   "source": [
    "k_range = range(1,20)\n",
    "scores = []\n",
    "\n",
    "for k in k_range:\n",
    "    knn1 = KNeighborsClassifier(n_neighbors = k)\n",
    "    knn1.fit(X_train, y_train)\n",
    "    scores.append(knn1.score(X_test, y_test))\n",
    "\n",
    "plt.figure()\n",
    "plt.xlabel('k')\n",
    "plt.ylabel('Doğruluk')\n",
    "plt.scatter(k_range, scores)\n",
    "plt.xticks([0,5,10,15,20]);"
   ]
  },
  {
   "cell_type": "code",
   "execution_count": null,
   "metadata": {},
   "outputs": [],
   "source": [
    "print('K-NN için eğitim seti performansı: {:.2f}'\n",
    "     .format(knn.score(X_train, y_train)))\n",
    "print('K-NN için test seti performansı: {:.2f}'\n",
    "     .format(knn.score(X_test, y_test)))\n",
    "\n",
    "example_fruit = [[0.5, 2.2, 6, 0.70]]\n",
    "#example_fruit_scaled = scaler.transform(example_fruit)\n",
    "print('Tahmin edilen meyve ', example_fruit, ' : ', \n",
    "          lookup_fruit_name[knn.predict(example_fruit)[0]])"
   ]
  },
  {
   "cell_type": "code",
   "execution_count": null,
   "metadata": {},
   "outputs": [],
   "source": [
    "from sklearn.tree import DecisionTreeClassifier\n",
    "\n",
    "clf = DecisionTreeClassifier().fit(X_train, y_train)\n",
    "\n",
    "print('Karar Ağacı Sınıflandırıcısı için eğitim seti performansı: {:.2f}'\n",
    "     .format(clf.score(X_train, y_train)))\n",
    "print('Karar Ağacı Sınıflandırıcısı için test seti performansı: {:.2f}'\n",
    "     .format(clf.score(X_test, y_test)))"
   ]
  },
  {
   "cell_type": "code",
   "execution_count": null,
   "metadata": {},
   "outputs": [],
   "source": [
    "example_fruit = [[0.5, 2.2, 6, 0.70]]\n",
    "#example_fruit_scaled = scaler.transform(example_fruit)\n",
    "print('Tahmin edilen meyve ', example_fruit, ' : ', \n",
    "          lookup_fruit_name[clf.predict(example_fruit)[0]])"
   ]
  },
  {
   "cell_type": "code",
   "execution_count": null,
   "metadata": {},
   "outputs": [],
   "source": [
    "clf2 = DecisionTreeClassifier(max_depth = 3).fit(X_train, y_train)\n",
    "\n",
    "print('Karar Ağacı Sınıflandırıcısı için eğitim seti performansı: {:.2f}'\n",
    "     .format(clf2.score(X_train, y_train)))\n",
    "print('Karar Ağacı Sınıflandırıcısı için test seti performansı: {:.2f}'\n",
    "     .format(clf2.score(X_test, y_test)))"
   ]
  },
  {
   "cell_type": "code",
   "execution_count": null,
   "metadata": {},
   "outputs": [],
   "source": [
    "example_fruit = [[0.5, 2.2, 6, 0.70]]\n",
    "#example_fruit_scaled = scaler.transform(example_fruit)\n",
    "print('Tahmin edilen meyve ', example_fruit, ' : ', \n",
    "          lookup_fruit_name[clf2.predict(example_fruit)[0]])"
   ]
  },
  {
   "cell_type": "code",
   "execution_count": null,
   "metadata": {},
   "outputs": [],
   "source": [
    "print('Öznitelik Önemleri: {}'.format(clf.feature_importances_))"
   ]
  },
  {
   "cell_type": "code",
   "execution_count": null,
   "metadata": {},
   "outputs": [],
   "source": [
    "from sklearn.svm import SVC\n",
    "from sklearn.metrics import confusion_matrix\n",
    "\n",
    "svm = SVC(kernel='linear', C=3).fit(X_train, y_train)\n",
    "svm_predicted = svm.predict(X_test)\n",
    "confusion = confusion_matrix(y_test, svm_predicted)\n",
    "print(svm.score(X_test, y_test))\n",
    "print('SVM_Sınıflandırıcı (Doğrusal kernel, C=1)\\n', confusion)"
   ]
  },
  {
   "cell_type": "code",
   "execution_count": null,
   "metadata": {},
   "outputs": [],
   "source": [
    "example_fruit = [[0.5, 2.2, 6, 0.70]]\n",
    "#example_fruit_scaled = scaler.transform(example_fruit)\n",
    "print('Tahmin edilen meyve ', example_fruit, ' : ', \n",
    "          lookup_fruit_name[svm.predict(example_fruit)[0]])"
   ]
  },
  {
   "cell_type": "code",
   "execution_count": null,
   "metadata": {},
   "outputs": [],
   "source": [
    "from sklearn.linear_model import LogisticRegression\n",
    "\n",
    "lr = LogisticRegression().fit(X_train, y_train)\n",
    "lr_predicted = lr.predict(X_test)\n",
    "confusion = confusion_matrix(y_test, lr_predicted)\n",
    "print(lr.score(X_test, y_test))\n",
    "print('Logistik regresyon (standart ayarlar)\\n', confusion)"
   ]
  },
  {
   "cell_type": "code",
   "execution_count": null,
   "metadata": {},
   "outputs": [],
   "source": [
    "from sklearn.metrics import classification_report\n",
    "\n",
    "print(classification_report(y_test, svm_predicted))"
   ]
  },
  {
   "cell_type": "code",
   "execution_count": null,
   "metadata": {},
   "outputs": [],
   "source": []
  }
 ],
 "metadata": {
  "kernelspec": {
   "display_name": "Python 3",
   "language": "python",
   "name": "python3"
  },
  "language_info": {
   "codemirror_mode": {
    "name": "ipython",
    "version": 3
   },
   "file_extension": ".py",
   "mimetype": "text/x-python",
   "name": "python",
   "nbconvert_exporter": "python",
   "pygments_lexer": "ipython3",
   "version": "3.6.5"
  }
 },
 "nbformat": 4,
 "nbformat_minor": 2
}
