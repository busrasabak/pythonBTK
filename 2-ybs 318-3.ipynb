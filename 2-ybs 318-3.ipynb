{
 "cells": [
  {
   "cell_type": "markdown",
   "metadata": {},
   "source": [
    "## Yeniden Örnekleme ile Algoritma Performansını Ölçme"
   ]
  },
  {
   "cell_type": "code",
   "execution_count": 4,
   "metadata": {},
   "outputs": [],
   "source": [
    "import pandas\n",
    "import numpy as np\n",
    "from pandas import read_csv\n",
    "url = \"https://raw.githubusercontent.com/jbrownlee/Datasets/master/pima-indians-diabetes.data.csv\"\n",
    "names = ['preg', 'plas', 'pres', 'skin', 'test', 'mass', 'pedi', 'age', 'class']\n",
    "data = read_csv(url, names=names)"
   ]
  },
  {
   "cell_type": "code",
   "execution_count": 5,
   "metadata": {},
   "outputs": [],
   "source": [
    "X = data.iloc[:,0:8]\n",
    "Y = data.iloc[:,-1]"
   ]
  },
  {
   "cell_type": "markdown",
   "metadata": {},
   "source": [
    "##  1 - Eğitim ve Test verilerine ayırmak"
   ]
  },
  {
   "cell_type": "code",
   "execution_count": 8,
   "metadata": {},
   "outputs": [
    {
     "name": "stdout",
     "output_type": "stream",
     "text": [
      "Doğruluk (Accuracy): 0.788%\n"
     ]
    }
   ],
   "source": [
    "from sklearn.model_selection import train_test_split\n",
    "from sklearn.linear_model import LogisticRegression\n",
    "from sklearn.cross_validation import train_test_split\n",
    "\n",
    "\n",
    "x_train, x_test,y_train,y_test=train_test_split(X,Y,test_size=0.3,random_state=0, stratify=Y  )\n",
    "# x_train, x_test,y_train,y_test=train_test_split(x,y,test_size=0.3,random_state=0)\n",
    "\n",
    "model = LogisticRegression()\n",
    "model.fit(x_train, y_train)\n",
    "result = model.score(x_test, y_test)\n",
    "print(\"Doğruluk (Accuracy): %.3f%%\" % result)"
   ]
  },
  {
   "cell_type": "markdown",
   "metadata": {},
   "source": [
    "## 2 - K-Çapraz Doğrulama"
   ]
  },
  {
   "cell_type": "code",
   "execution_count": 36,
   "metadata": {},
   "outputs": [
    {
     "name": "stdout",
     "output_type": "stream",
     "text": [
      "[0.83333333 0.75925926 0.7962963  0.77777778 0.68518519 0.72222222\n",
      " 0.77777778 0.73584906 0.77358491 0.66037736]\n",
      "Doğruluk (Accuracy): 75.217%\n"
     ]
    }
   ],
   "source": [
    "from sklearn.model_selection import cross_val_score\n",
    "\n",
    "cv_scores = []\n",
    "model = LogisticRegression()\n",
    "scores = cross_val_score(model, x_train, y_train, cv=10, scoring='accuracy')\n",
    "cv_scores.append(scores.mean())\n",
    "\n",
    "print(scores)\n",
    "print(\"Doğruluk (Accuracy): %.3f%%\" % (scores.mean()*100))"
   ]
  },
  {
   "cell_type": "markdown",
   "metadata": {},
   "source": [
    "## 3 - Birini Dışarıda Bırak Çapraz Doğrulama (Leave One Out Cross Validation)"
   ]
  },
  {
   "cell_type": "code",
   "execution_count": 37,
   "metadata": {},
   "outputs": [
    {
     "name": "stdout",
     "output_type": "stream",
     "text": [
      "Doğruluk (Accuracy): 75.605%\n"
     ]
    }
   ],
   "source": [
    "# k tabaka sayısı eğitim setindeki gözlem sayısına eşittir. \n",
    "\n",
    "from sklearn.model_selection import LeaveOneOut\n",
    "\n",
    "cv_scores = []\n",
    "model = LogisticRegression()\n",
    "lcv = LeaveOneOut()\n",
    "scores = cross_val_score(model, x_train,y_train, cv=lcv)\n",
    "cv_scores.append(scores.mean())\n",
    "\n",
    "#print(scores)\n",
    "print(\"Doğruluk (Accuracy): %.3f%%\" % (scores.mean()*100))"
   ]
  },
  {
   "cell_type": "markdown",
   "metadata": {},
   "source": [
    "## 4 - Tekrarlı Rasgele Eğitim / Test Bölme İşlemi (Repeated Random Test-Train Splits)"
   ]
  },
  {
   "cell_type": "code",
   "execution_count": 41,
   "metadata": {},
   "outputs": [
    {
     "name": "stdout",
     "output_type": "stream",
     "text": [
      "[0.71851852 0.77037037 0.74074074 0.77777778 0.73333333 0.75555556\n",
      " 0.73333333 0.73333333 0.8        0.71111111 0.7037037  0.71851852\n",
      " 0.74074074 0.7037037  0.74814815]\n",
      "Doğruluk (Accuracy): 73.926%\n"
     ]
    }
   ],
   "source": [
    "from sklearn.model_selection import ShuffleSplit\n",
    "\n",
    "n_splits = 15\n",
    "test_size = 0.25\n",
    "\n",
    "fold = ShuffleSplit(n_splits=n_splits, test_size=test_size, random_state=7)\n",
    "model = LogisticRegression()\n",
    "results = cross_val_score(model, x_train,y_train, cv=fold)\n",
    "\n",
    "print(results)\n",
    "print(\"Doğruluk (Accuracy): %.3f%%\" % (results.mean()*100))"
   ]
  },
  {
   "cell_type": "code",
   "execution_count": null,
   "metadata": {},
   "outputs": [],
   "source": []
  }
 ],
 "metadata": {
  "kernelspec": {
   "display_name": "Python 3",
   "language": "python",
   "name": "python3"
  },
  "language_info": {
   "codemirror_mode": {
    "name": "ipython",
    "version": 3
   },
   "file_extension": ".py",
   "mimetype": "text/x-python",
   "name": "python",
   "nbconvert_exporter": "python",
   "pygments_lexer": "ipython3",
   "version": "3.6.6"
  }
 },
 "nbformat": 4,
 "nbformat_minor": 2
}
